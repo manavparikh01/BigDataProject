{
 "cells": [
  {
   "cell_type": "code",
   "execution_count": null,
   "id": "1cffb1d1",
   "metadata": {},
   "outputs": [],
   "source": [
    "import folium\n",
    "import geopandas as gpd\n",
    "\n",
    "# Loading GeoJSON data for NYC borough boundaries\n",
    "nyc_boroughs_geojson = 'nycboroughs.geojson'\n",
    "boroughs_data = gpd.read_file(nyc_boroughs_geojson)\n",
    "\n",
    "nyc_map_boroughs = folium.Map(location=[40.7128, -74.0060], zoom_start=10.5)\n",
    "\n",
    "# Adding borough boundaries to the map\n",
    "for _, row in boroughs_data.iterrows():\n",
    "    folium.GeoJson(row.geometry).add_to(nyc_map_boroughs)\n",
    "\n",
    "# Displaying the map\n",
    "nyc_map_boroughs.save('nyc_boroughs_map.html')\n"
   ]
  },
  {
   "cell_type": "code",
   "execution_count": null,
   "id": "b938bc7d",
   "metadata": {},
   "outputs": [],
   "source": [
    "nyc_map_boroughs"
   ]
  },
  {
   "cell_type": "code",
   "execution_count": null,
   "id": "0d7a96e3",
   "metadata": {},
   "outputs": [],
   "source": [
    "import folium\n",
    "import geopandas as gpd\n",
    "\n",
    "# Loading GeoJSON data for NYC borough boundaries\n",
    "nyc_neighbourhoods_geojson = 'nycneighbourhoods.geojson'\n",
    "boroughs_data = gpd.read_file(nyc_neighbourhoods_geojson)\n",
    "\n",
    "nyc_map_neighbourhoods = folium.Map(location=[40.7128, -74.0060], zoom_start=10.5)\n",
    "\n",
    "# Adding neighbourhood boundaries to the map\n",
    "for _, row in boroughs_data.iterrows():\n",
    "    folium.GeoJson(row.geometry).add_to(nyc_map_neighbourhoods)\n",
    "\n",
    "# Displaying the map\n",
    "nyc_map_neighbourhoods.save('nyc_neighbourhoods_map.html')"
   ]
  },
  {
   "cell_type": "code",
   "execution_count": null,
   "id": "c282881b",
   "metadata": {},
   "outputs": [],
   "source": [
    "nyc_map_neighbourhoods"
   ]
  },
  {
   "cell_type": "code",
   "execution_count": null,
   "id": "83ce1aed",
   "metadata": {},
   "outputs": [],
   "source": [
    "import folium\n",
    "import geopandas as gpd\n",
    "\n",
    "# Loading GeoJSON data for NYC borough boundaries\n",
    "nyc_grids_geojson = 'grid_coordinates.geojson'\n",
    "grid_big_data = gpd.read_file(nyc_grids_geojson)\n",
    "\n",
    "nyc_map_grid_big = folium.Map(location=[40.7128, -74.0060], zoom_start=10.5)\n",
    "\n",
    "# Adding grid big boundaries to the map\n",
    "for _, row in grid_big_data.iterrows():\n",
    "    folium.GeoJson(row.geometry).add_to(nyc_map_grid_big)\n",
    "\n",
    "# Displaying the map\n",
    "nyc_map_grid_big.save('nyc_grids_big_map.html')"
   ]
  },
  {
   "cell_type": "code",
   "execution_count": null,
   "id": "10eac1fc",
   "metadata": {},
   "outputs": [],
   "source": [
    "nyc_map_grid_big"
   ]
  },
  {
   "cell_type": "code",
   "execution_count": null,
   "id": "5fee7f46",
   "metadata": {},
   "outputs": [],
   "source": [
    "import folium\n",
    "import geopandas as gpd\n",
    "\n",
    "# Loading GeoJSON data for NYC borough boundaries\n",
    "nyc_grids_geojson = 'grid_coordinates_half_size.geojson'\n",
    "boroughs_data = gpd.read_file(nyc_grids_geojson)\n",
    "\n",
    "nyc_map = folium.Map(location=[40.7128, -74.0060], zoom_start=10.5)\n",
    "\n",
    "# Adding grid boundaries to the map\n",
    "for _, row in boroughs_data.iterrows():\n",
    "    folium.GeoJson(row.geometry).add_to(nyc_map)\n",
    "\n",
    "# Displaying the map\n",
    "nyc_map.save('nyc_grids_map.html')"
   ]
  },
  {
   "cell_type": "code",
   "execution_count": null,
   "id": "e10e8d16",
   "metadata": {},
   "outputs": [],
   "source": [
    "nyc_map"
   ]
  },
  {
   "cell_type": "code",
   "execution_count": null,
   "id": "5f93d4e6",
   "metadata": {},
   "outputs": [],
   "source": [
    "import folium\n",
    "import geopandas as gpd\n",
    "import pandas as pd\n",
    "from shapely.geometry import box\n",
    "\n",
    "# Loading GeoJSON data for square polygons\n",
    "geojson_file_path = 'grid_coordinates_half_size.geojson'\n",
    "polygons_data = gpd.read_file(geojson_file_path)\n",
    "\n",
    "# Loading CSV data with grid information\n",
    "csv_file_path = 'vic_sex_polygon.csv'\n",
    "grid_data = pd.read_csv(csv_file_path)\n",
    "\n",
    "# Converting CSV data to GeoDataFrame\n",
    "geometry = [box(row['Min Longitude'], row['Min Latitude'], row['Max Longitude'], row['Max Latitude']) for _, row in grid_data.iterrows()]\n",
    "grid_gdf = gpd.GeoDataFrame(grid_data, geometry=geometry, crs=polygons_data.crs)\n",
    "\n",
    "# Performing a spatial join between the GeoJSON polygons and the CSV data using 'within'\n",
    "merged_data = gpd.sjoin(polygons_data, grid_gdf, how='inner', op='within', predicate='within')\n",
    "\n",
    "# Create a base map centered around the polygons\n",
    "grid_map_combine_sex = folium.Map(location=[40.7128, -74.0060], zoom_start=10.5)\n",
    "\n",
    "colors = {0: 'red', 1: 'pink', 2: 'white', 3: 'green', 4: 'blue', 5: 'transparent'}\n",
    "\n",
    "# Adding polygons to the map with colors from the CSV file\n",
    "for _, row in merged_data.iterrows():\n",
    "    color = colors.get(row['COLOUR'])\n",
    "    folium.GeoJson(row.geometry, style_function=lambda feature, color=color: {\n",
    "        'fillColor': color,\n",
    "        'color': 'transparent',\n",
    "        'weight': 2,\n",
    "        'fillOpacity': 0.7\n",
    "    }).add_to(grid_map_combine_sex)\n",
    "\n",
    "# Displaying the map\n",
    "grid_map_combine_sex.save('grid_map_combine_sex.html')\n"
   ]
  },
  {
   "cell_type": "code",
   "execution_count": null,
   "id": "99f39840",
   "metadata": {},
   "outputs": [],
   "source": [
    "grid_map_combine_sex"
   ]
  },
  {
   "cell_type": "code",
   "execution_count": null,
   "id": "2918b194",
   "metadata": {},
   "outputs": [],
   "source": [
    "import geopandas as gpd\n",
    "import folium\n",
    "\n",
    "# Loading GeoJSON data\n",
    "geojson_file_path = 'modified_grid.geojson'\n",
    "gdf = gpd.read_file(geojson_file_path)\n",
    "\n",
    "grid_map_sex = folium.Map(location=[40.7128, -74.0060], zoom_start=10.5)\n",
    "\n",
    "colors = {0: 'red', 1: 'pink', 2: 'white', 3: 'green', 4: 'blue', 5: 'black'}\n",
    "\n",
    "# Adding polygons to the map with colors from the GeoJSON file\n",
    "for _, row in gdf.iterrows():\n",
    "    color = colors[row['COLOUR']]\n",
    "    folium.GeoJson(row.geometry.__geo_interface__, style_function=lambda feature, color=color: {\n",
    "        'fillColor': color,\n",
    "        'color': 'transparent',\n",
    "        'weight': 2,\n",
    "        'fillOpacity': 0.7\n",
    "    }).add_to(grid_map_sex)\n",
    "\n",
    "# Displaying the map\n",
    "grid_map_sex.save('nyc_crime_sex.html')"
   ]
  },
  {
   "cell_type": "code",
   "execution_count": null,
   "id": "d78ff833",
   "metadata": {},
   "outputs": [],
   "source": [
    "grid_map_sex"
   ]
  },
  {
   "cell_type": "code",
   "execution_count": null,
   "id": "4c74f63c",
   "metadata": {},
   "outputs": [],
   "source": [
    "import geopandas as gpd\n",
    "import folium\n",
    "\n",
    "# Loading GeoJSON data\n",
    "geojson_file_path = 'race_grid.geojson' \n",
    "gdf = gpd.read_file(geojson_file_path)\n",
    "\n",
    "grid_map_race = folium.Map(location=[40.7128, -74.0060], zoom_start=10.5)\n",
    "\n",
    "# colors = {1: 'white', 2: 'black', 3: 'brown', 4: 'purple', 5: 'pink', 6: 'green', 7: 'black'}\n",
    "colors = {\n",
    "    1: 'lightgray',            # WHITE\n",
    "    2: 'darkpurple',           # BLACK\n",
    "    3: 'beige',                # AMERICAN INDIAN/ALASKAN NATIVE\n",
    "    4: 'darkred',              # BLACK HISPANIC\n",
    "    5: 'lightred',             # WHITE HISPANIC\n",
    "    6: 'lightblue',            # ASIAN / PACIFIC ISLANDER\n",
    "    7: 'white',                 # nothing\n",
    "}\n",
    "\n",
    "\n",
    "# Adding polygons to the map with colors from the GeoJSON file\n",
    "for _, row in gdf.iterrows():\n",
    "    color = colors[row['COLOUR']]\n",
    "    folium.GeoJson(row.geometry.__geo_interface__, style_function=lambda feature, color=color: {\n",
    "        'fillColor': color,\n",
    "        'color': 'transparent',\n",
    "        'weight': 2,\n",
    "        'fillOpacity': 0.7\n",
    "    }).add_to(grid_map_race)\n",
    "\n",
    "# Displaying the map\n",
    "grid_map_race.save('nyc_crime_race.html')"
   ]
  },
  {
   "cell_type": "code",
   "execution_count": null,
   "id": "412d930b",
   "metadata": {},
   "outputs": [],
   "source": [
    "grid_map_race"
   ]
  },
  {
   "cell_type": "code",
   "execution_count": null,
   "id": "b9643da2",
   "metadata": {},
   "outputs": [],
   "source": [
    "import geopandas as gpd\n",
    "import folium\n",
    "\n",
    "# Loading GeoJSON data\n",
    "geojson_file_path = 'age_grid.geojson'\n",
    "gdf = gpd.read_file(geojson_file_path)\n",
    "\n",
    "grid_map_age = folium.Map(location=[40.7128, -74.0060], zoom_start=10.5)\n",
    "\n",
    "#colors = {1: 'pink', 2: 'orange', 3: 'red', 4: 'blue', 5: 'purple', 7: 'transparent'}\n",
    "colors = {\n",
    "    1: 'lightblue',   # <18\n",
    "    2: 'lightgreen',  # 18-24\n",
    "    3: 'orange',      # 25-44\n",
    "    4: 'darkpurple',  # 45-64\n",
    "    5: 'pink',        # 65+\n",
    "    7: 'black'        # unknown\n",
    "}\n",
    "\n",
    "# Adding polygons to the map with colors from the GeoJSON file\n",
    "for _, row in gdf.iterrows():\n",
    "    color = colors[row['COLOUR']]\n",
    "    folium.GeoJson(row.geometry.__geo_interface__, style_function=lambda feature, color=color: {\n",
    "        'fillColor': color,\n",
    "        'color': 'transparent',\n",
    "        'weight': 2,\n",
    "        'fillOpacity': 0.7\n",
    "    }).add_to(grid_map_age)\n",
    "\n",
    "# Displaying the map\n",
    "grid_map_age.save('nyc_crime_age.html')"
   ]
  },
  {
   "cell_type": "code",
   "execution_count": null,
   "id": "219c3896",
   "metadata": {},
   "outputs": [],
   "source": [
    "grid_map_age"
   ]
  },
  {
   "cell_type": "code",
   "execution_count": null,
   "id": "4dd28435",
   "metadata": {},
   "outputs": [],
   "source": []
  }
 ],
 "metadata": {
  "kernelspec": {
   "display_name": "Python 3 (ipykernel)",
   "language": "python",
   "name": "python3"
  },
  "language_info": {
   "codemirror_mode": {
    "name": "ipython",
    "version": 3
   },
   "file_extension": ".py",
   "mimetype": "text/x-python",
   "name": "python",
   "nbconvert_exporter": "python",
   "pygments_lexer": "ipython3",
   "version": "3.11.5"
  }
 },
 "nbformat": 4,
 "nbformat_minor": 5
}
